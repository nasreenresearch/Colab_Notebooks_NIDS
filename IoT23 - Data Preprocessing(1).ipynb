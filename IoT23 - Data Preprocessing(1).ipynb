{
 "cells": [
  {
   "cell_type": "code",
   "execution_count": 1,
   "id": "choice-fitness",
   "metadata": {},
   "outputs": [],
   "source": [
    "import pandas as pd"
   ]
  },
  {
   "cell_type": "code",
   "execution_count": 4,
   "id": "ordinary-burst",
   "metadata": {},
   "outputs": [],
   "source": [
    "df34 = pd.read_csv(\"../X.csv\")\n"
   ]
  },
  {
   "cell_type": "code",
   "execution_count": 6,
   "id": "liberal-valley",
   "metadata": {
    "scrolled": false
   },
   "outputs": [
    {
     "data": {
      "text/html": [
       "<div>\n",
       "<style scoped>\n",
       "    .dataframe tbody tr th:only-of-type {\n",
       "        vertical-align: middle;\n",
       "    }\n",
       "\n",
       "    .dataframe tbody tr th {\n",
       "        vertical-align: top;\n",
       "    }\n",
       "\n",
       "    .dataframe thead th {\n",
       "        text-align: right;\n",
       "    }\n",
       "</style>\n",
       "<table border=\"1\" class=\"dataframe\">\n",
       "  <thead>\n",
       "    <tr style=\"text-align: right;\">\n",
       "      <th></th>\n",
       "      <th>duration</th>\n",
       "      <th>orig_bytes</th>\n",
       "      <th>resp_bytes</th>\n",
       "      <th>missed_bytes</th>\n",
       "      <th>orig_pkts</th>\n",
       "      <th>orig_ip_bytes</th>\n",
       "      <th>resp_pkts</th>\n",
       "      <th>resp_ip_bytes</th>\n",
       "      <th>proto_icmp</th>\n",
       "      <th>proto_tcp</th>\n",
       "      <th>...</th>\n",
       "      <th>conn_state_RSTOS0</th>\n",
       "      <th>conn_state_RSTR</th>\n",
       "      <th>conn_state_RSTRH</th>\n",
       "      <th>conn_state_S0</th>\n",
       "      <th>conn_state_S1</th>\n",
       "      <th>conn_state_S2</th>\n",
       "      <th>conn_state_S3</th>\n",
       "      <th>conn_state_SF</th>\n",
       "      <th>conn_state_SH</th>\n",
       "      <th>conn_state_SHR</th>\n",
       "    </tr>\n",
       "  </thead>\n",
       "  <tbody>\n",
       "    <tr>\n",
       "      <th>0</th>\n",
       "      <td>-0.003649</td>\n",
       "      <td>-0.001061</td>\n",
       "      <td>-0.001072</td>\n",
       "      <td>-0.004296</td>\n",
       "      <td>-0.001621</td>\n",
       "      <td>-0.001079</td>\n",
       "      <td>-0.002027</td>\n",
       "      <td>-0.001103</td>\n",
       "      <td>-0.139576</td>\n",
       "      <td>0.904697</td>\n",
       "      <td>...</td>\n",
       "      <td>-0.013985</td>\n",
       "      <td>-0.036241</td>\n",
       "      <td>-0.007416</td>\n",
       "      <td>0.263863</td>\n",
       "      <td>-0.008504</td>\n",
       "      <td>-0.007686</td>\n",
       "      <td>-0.044836</td>\n",
       "      <td>-0.165157</td>\n",
       "      <td>-0.011595</td>\n",
       "      <td>-0.003908</td>\n",
       "    </tr>\n",
       "    <tr>\n",
       "      <th>1</th>\n",
       "      <td>-0.003646</td>\n",
       "      <td>-0.001061</td>\n",
       "      <td>-0.001072</td>\n",
       "      <td>-0.004296</td>\n",
       "      <td>-0.000109</td>\n",
       "      <td>-0.001012</td>\n",
       "      <td>-0.002027</td>\n",
       "      <td>-0.001103</td>\n",
       "      <td>-0.139576</td>\n",
       "      <td>0.904697</td>\n",
       "      <td>...</td>\n",
       "      <td>-0.013985</td>\n",
       "      <td>-0.036241</td>\n",
       "      <td>-0.007416</td>\n",
       "      <td>0.263863</td>\n",
       "      <td>-0.008504</td>\n",
       "      <td>-0.007686</td>\n",
       "      <td>-0.044836</td>\n",
       "      <td>-0.165157</td>\n",
       "      <td>-0.011595</td>\n",
       "      <td>-0.003908</td>\n",
       "    </tr>\n",
       "    <tr>\n",
       "      <th>2</th>\n",
       "      <td>-0.003649</td>\n",
       "      <td>-0.001061</td>\n",
       "      <td>-0.001072</td>\n",
       "      <td>-0.004296</td>\n",
       "      <td>-0.001621</td>\n",
       "      <td>-0.001079</td>\n",
       "      <td>-0.002027</td>\n",
       "      <td>-0.001103</td>\n",
       "      <td>-0.139576</td>\n",
       "      <td>0.904697</td>\n",
       "      <td>...</td>\n",
       "      <td>-0.013985</td>\n",
       "      <td>-0.036241</td>\n",
       "      <td>-0.007416</td>\n",
       "      <td>0.263863</td>\n",
       "      <td>-0.008504</td>\n",
       "      <td>-0.007686</td>\n",
       "      <td>-0.044836</td>\n",
       "      <td>-0.165157</td>\n",
       "      <td>-0.011595</td>\n",
       "      <td>-0.003908</td>\n",
       "    </tr>\n",
       "    <tr>\n",
       "      <th>3</th>\n",
       "      <td>-0.003649</td>\n",
       "      <td>-0.001061</td>\n",
       "      <td>-0.001072</td>\n",
       "      <td>-0.004296</td>\n",
       "      <td>-0.001621</td>\n",
       "      <td>-0.001090</td>\n",
       "      <td>-0.002027</td>\n",
       "      <td>-0.001103</td>\n",
       "      <td>-0.139576</td>\n",
       "      <td>-1.105342</td>\n",
       "      <td>...</td>\n",
       "      <td>-0.013985</td>\n",
       "      <td>-0.036241</td>\n",
       "      <td>-0.007416</td>\n",
       "      <td>0.263863</td>\n",
       "      <td>-0.008504</td>\n",
       "      <td>-0.007686</td>\n",
       "      <td>-0.044836</td>\n",
       "      <td>-0.165157</td>\n",
       "      <td>-0.011595</td>\n",
       "      <td>-0.003908</td>\n",
       "    </tr>\n",
       "    <tr>\n",
       "      <th>4</th>\n",
       "      <td>-0.003649</td>\n",
       "      <td>-0.001061</td>\n",
       "      <td>-0.001072</td>\n",
       "      <td>-0.004296</td>\n",
       "      <td>-0.000109</td>\n",
       "      <td>-0.001012</td>\n",
       "      <td>-0.002027</td>\n",
       "      <td>-0.001103</td>\n",
       "      <td>-0.139576</td>\n",
       "      <td>0.904697</td>\n",
       "      <td>...</td>\n",
       "      <td>-0.013985</td>\n",
       "      <td>-0.036241</td>\n",
       "      <td>-0.007416</td>\n",
       "      <td>0.263863</td>\n",
       "      <td>-0.008504</td>\n",
       "      <td>-0.007686</td>\n",
       "      <td>-0.044836</td>\n",
       "      <td>-0.165157</td>\n",
       "      <td>-0.011595</td>\n",
       "      <td>-0.003908</td>\n",
       "    </tr>\n",
       "  </tbody>\n",
       "</table>\n",
       "<p>5 rows × 31 columns</p>\n",
       "</div>"
      ],
      "text/plain": [
       "   duration  orig_bytes  resp_bytes  missed_bytes  orig_pkts  orig_ip_bytes  \\\n",
       "0 -0.003649   -0.001061   -0.001072     -0.004296  -0.001621      -0.001079   \n",
       "1 -0.003646   -0.001061   -0.001072     -0.004296  -0.000109      -0.001012   \n",
       "2 -0.003649   -0.001061   -0.001072     -0.004296  -0.001621      -0.001079   \n",
       "3 -0.003649   -0.001061   -0.001072     -0.004296  -0.001621      -0.001090   \n",
       "4 -0.003649   -0.001061   -0.001072     -0.004296  -0.000109      -0.001012   \n",
       "\n",
       "   resp_pkts  resp_ip_bytes  proto_icmp  proto_tcp  ...  conn_state_RSTOS0  \\\n",
       "0  -0.002027      -0.001103   -0.139576   0.904697  ...          -0.013985   \n",
       "1  -0.002027      -0.001103   -0.139576   0.904697  ...          -0.013985   \n",
       "2  -0.002027      -0.001103   -0.139576   0.904697  ...          -0.013985   \n",
       "3  -0.002027      -0.001103   -0.139576  -1.105342  ...          -0.013985   \n",
       "4  -0.002027      -0.001103   -0.139576   0.904697  ...          -0.013985   \n",
       "\n",
       "   conn_state_RSTR  conn_state_RSTRH  conn_state_S0  conn_state_S1  \\\n",
       "0        -0.036241         -0.007416       0.263863      -0.008504   \n",
       "1        -0.036241         -0.007416       0.263863      -0.008504   \n",
       "2        -0.036241         -0.007416       0.263863      -0.008504   \n",
       "3        -0.036241         -0.007416       0.263863      -0.008504   \n",
       "4        -0.036241         -0.007416       0.263863      -0.008504   \n",
       "\n",
       "   conn_state_S2  conn_state_S3  conn_state_SF  conn_state_SH  conn_state_SHR  \n",
       "0      -0.007686      -0.044836      -0.165157      -0.011595       -0.003908  \n",
       "1      -0.007686      -0.044836      -0.165157      -0.011595       -0.003908  \n",
       "2      -0.007686      -0.044836      -0.165157      -0.011595       -0.003908  \n",
       "3      -0.007686      -0.044836      -0.165157      -0.011595       -0.003908  \n",
       "4      -0.007686      -0.044836      -0.165157      -0.011595       -0.003908  \n",
       "\n",
       "[5 rows x 31 columns]"
      ]
     },
     "execution_count": 6,
     "metadata": {},
     "output_type": "execute_result"
    }
   ],
   "source": [
    "df34.head()"
   ]
  },
  {
   "cell_type": "code",
   "execution_count": 7,
   "id": "silver-royal",
   "metadata": {},
   "outputs": [
    {
     "data": {
      "text/plain": [
       "(981934, 31)"
      ]
     },
     "execution_count": 7,
     "metadata": {},
     "output_type": "execute_result"
    }
   ],
   "source": [
    "df34.shape"
   ]
  },
  {
   "cell_type": "code",
   "execution_count": 8,
   "id": "informed-cancellation",
   "metadata": {},
   "outputs": [],
   "source": [
    "df34.fillna(-1,inplace=True)"
   ]
  },
  {
   "cell_type": "code",
   "execution_count": 9,
   "id": "later-cursor",
   "metadata": {},
   "outputs": [
    {
     "data": {
      "text/plain": [
       "duration             0\n",
       "orig_bytes           0\n",
       "resp_bytes           0\n",
       "missed_bytes         0\n",
       "orig_pkts            0\n",
       "orig_ip_bytes        0\n",
       "resp_pkts            0\n",
       "resp_ip_bytes        0\n",
       "proto_icmp           0\n",
       "proto_tcp            0\n",
       "proto_udp            0\n",
       "service_dhcp         0\n",
       "service_dns          0\n",
       "service_http         0\n",
       "service_irc          0\n",
       "service_ssh          0\n",
       "service_ssl          0\n",
       "service_nan          0\n",
       "conn_state_OTH       0\n",
       "conn_state_REJ       0\n",
       "conn_state_RSTO      0\n",
       "conn_state_RSTOS0    0\n",
       "conn_state_RSTR      0\n",
       "conn_state_RSTRH     0\n",
       "conn_state_S0        0\n",
       "conn_state_S1        0\n",
       "conn_state_S2        0\n",
       "conn_state_S3        0\n",
       "conn_state_SF        0\n",
       "conn_state_SH        0\n",
       "conn_state_SHR       0\n",
       "dtype: int64"
      ]
     },
     "execution_count": 9,
     "metadata": {},
     "output_type": "execute_result"
    }
   ],
   "source": [
    "df34.isna().sum()"
   ]
  },
  {
   "cell_type": "code",
   "execution_count": 10,
   "id": "naked-optics",
   "metadata": {
    "scrolled": false
   },
   "outputs": [
    {
     "name": "stdout",
     "output_type": "stream",
     "text": [
      "['duration', 'orig_bytes', 'resp_bytes', 'missed_bytes', 'orig_pkts', 'orig_ip_bytes', 'resp_pkts', 'resp_ip_bytes', 'proto_icmp', 'proto_tcp', 'proto_udp', 'service_dhcp', 'service_dns', 'service_http', 'service_irc', 'service_ssh', 'service_ssl', 'service_nan', 'conn_state_OTH', 'conn_state_REJ', 'conn_state_RSTO', 'conn_state_RSTOS0', 'conn_state_RSTR', 'conn_state_RSTRH', 'conn_state_S0', 'conn_state_S1', 'conn_state_S2', 'conn_state_S3', 'conn_state_SF', 'conn_state_SH', 'conn_state_SHR']\n"
     ]
    }
   ],
   "source": [
    "print(df34.columns.tolist())"
   ]
  },
  {
   "cell_type": "code",
   "execution_count": 11,
   "id": "bacterial-somerset",
   "metadata": {},
   "outputs": [],
   "source": [
    "df34.to_csv('iot23_combined.csv')"
   ]
  },
  {
   "cell_type": "code",
   "execution_count": null,
   "id": "c8145adb",
   "metadata": {},
   "outputs": [],
   "source": []
  }
 ],
 "metadata": {
  "kernelspec": {
   "display_name": "Python 3 (ipykernel)",
   "language": "python",
   "name": "python3"
  },
  "language_info": {
   "codemirror_mode": {
    "name": "ipython",
    "version": 3
   },
   "file_extension": ".py",
   "mimetype": "text/x-python",
   "name": "python",
   "nbconvert_exporter": "python",
   "pygments_lexer": "ipython3",
   "version": "3.9.7"
  }
 },
 "nbformat": 4,
 "nbformat_minor": 5
}
